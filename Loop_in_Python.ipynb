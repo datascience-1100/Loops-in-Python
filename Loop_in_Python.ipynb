{
  "nbformat": 4,
  "nbformat_minor": 0,
  "metadata": {
    "colab": {
      "provenance": []
    },
    "kernelspec": {
      "name": "python3",
      "display_name": "Python 3"
    },
    "language_info": {
      "name": "python"
    }
  },
  "cells": [
    {
      "cell_type": "code",
      "execution_count": null,
      "metadata": {
        "id": "dIIjAXnMQI1Q"
      },
      "outputs": [],
      "source": [
        "#Loop Definition"
      ]
    },
    {
      "cell_type": "code",
      "source": [
        "#For loop\n",
        "print(\"a message\")"
      ],
      "metadata": {
        "colab": {
          "base_uri": "https://localhost:8080/"
        },
        "id": "TazZ4LhnQP3W",
        "outputId": "468c07bd-51e3-4760-df72-71112f4c9da1"
      },
      "execution_count": 2,
      "outputs": [
        {
          "output_type": "stream",
          "name": "stdout",
          "text": [
            "a message\n"
          ]
        }
      ]
    },
    {
      "cell_type": "code",
      "source": [
        "#range - built in\n",
        "a=2\n",
        "print(type(a))\n",
        "print(type(range(6)))"
      ],
      "metadata": {
        "id": "wB6GsY1ddvqk"
      },
      "execution_count": null,
      "outputs": []
    },
    {
      "cell_type": "code",
      "source": [
        "for number in range(5):\n",
        "   print(number)"
      ],
      "metadata": {
        "colab": {
          "base_uri": "https://localhost:8080/"
        },
        "id": "U3qy7nKyQQCe",
        "outputId": "2dbe0311-3348-4b05-fc0e-51558d035714"
      },
      "execution_count": 34,
      "outputs": [
        {
          "output_type": "stream",
          "name": "stdout",
          "text": [
            "0\n",
            "1\n",
            "2\n",
            "3\n",
            "4\n"
          ]
        }
      ]
    },
    {
      "cell_type": "code",
      "source": [
        "#start from 1 instead of zero\n",
        "for i in range(1, 10):\n",
        "      print(i)"
      ],
      "metadata": {
        "colab": {
          "base_uri": "https://localhost:8080/"
        },
        "id": "JTQ3gbQAevTA",
        "outputId": "f4554040-7a44-4183-a4aa-400ac9e8eba5"
      },
      "execution_count": 36,
      "outputs": [
        {
          "output_type": "stream",
          "name": "stdout",
          "text": [
            "1\n",
            "2\n",
            "3\n",
            "4\n",
            "5\n",
            "6\n",
            "7\n",
            "8\n",
            "9\n"
          ]
        }
      ]
    },
    {
      "cell_type": "code",
      "source": [
        "#start from 1 instead of zero\n",
        "for i in range(1, 10,2):\n",
        "      print(i)"
      ],
      "metadata": {
        "colab": {
          "base_uri": "https://localhost:8080/"
        },
        "id": "I0pLCA5jgQEZ",
        "outputId": "117e9152-4b96-47c8-d7bb-ea4195e7f51f"
      },
      "execution_count": 37,
      "outputs": [
        {
          "output_type": "stream",
          "name": "stdout",
          "text": [
            "1\n",
            "3\n",
            "5\n",
            "7\n",
            "9\n"
          ]
        }
      ]
    },
    {
      "cell_type": "code",
      "source": [
        "for a in range (1,11):\n",
        "  print('2*', a, '=', 2*a)\n"
      ],
      "metadata": {
        "colab": {
          "base_uri": "https://localhost:8080/"
        },
        "id": "StTxYvt0i622",
        "outputId": "26384ea6-3842-4853-a5cb-629ecfa8d002"
      },
      "execution_count": 46,
      "outputs": [
        {
          "output_type": "stream",
          "name": "stdout",
          "text": [
            "2* 1 = 2\n",
            "2* 2 = 4\n",
            "2* 3 = 6\n",
            "2* 4 = 8\n",
            "2* 5 = 10\n",
            "2* 6 = 12\n",
            "2* 7 = 14\n",
            "2* 8 = 16\n",
            "2* 9 = 18\n",
            "2* 10 = 20\n"
          ]
        }
      ]
    },
    {
      "cell_type": "code",
      "source": [
        "for n in range(10,0,-1):\n",
        "   print(n)"
      ],
      "metadata": {
        "colab": {
          "base_uri": "https://localhost:8080/"
        },
        "id": "gFhsGCgujUlu",
        "outputId": "30a69e29-5cab-45c4-8c43-6a68d0d5e30d"
      },
      "execution_count": 48,
      "outputs": [
        {
          "output_type": "stream",
          "name": "stdout",
          "text": [
            "10\n",
            "9\n",
            "8\n",
            "7\n",
            "6\n",
            "5\n",
            "4\n",
            "3\n",
            "2\n",
            "1\n"
          ]
        }
      ]
    },
    {
      "cell_type": "code",
      "source": [
        "for number in 'Python':\n",
        "   print(number)"
      ],
      "metadata": {
        "colab": {
          "base_uri": "https://localhost:8080/"
        },
        "id": "laM2W9RlW3ch",
        "outputId": "42f20ca7-311f-41a8-be9d-e2e9186f2cd1"
      },
      "execution_count": 16,
      "outputs": [
        {
          "output_type": "stream",
          "name": "stdout",
          "text": [
            "P\n",
            "y\n",
            "t\n",
            "h\n",
            "o\n",
            "n\n"
          ]
        }
      ]
    },
    {
      "cell_type": "code",
      "source": [
        "#Indentation\n",
        "for number in 'Python':\n",
        "   print(number)\n",
        "print('Python')"
      ],
      "metadata": {
        "colab": {
          "base_uri": "https://localhost:8080/"
        },
        "id": "5Btzl5b-XF6V",
        "outputId": "6f9f07d0-8857-4345-8df7-2ea272a639b9"
      },
      "execution_count": 18,
      "outputs": [
        {
          "output_type": "stream",
          "name": "stdout",
          "text": [
            "P\n",
            "y\n",
            "t\n",
            "h\n",
            "o\n",
            "n\n",
            "Python\n"
          ]
        }
      ]
    },
    {
      "cell_type": "code",
      "source": [
        "for number in range(5):\n",
        "   print(\"Number\", number +1)"
      ],
      "metadata": {
        "colab": {
          "base_uri": "https://localhost:8080/"
        },
        "id": "q4pL9jzrQQMm",
        "outputId": "1141ce5f-f960-49c2-e75b-11f186ca982b"
      },
      "execution_count": 5,
      "outputs": [
        {
          "output_type": "stream",
          "name": "stdout",
          "text": [
            "a message 1\n",
            "a message 2\n",
            "a message 3\n",
            "a message 4\n",
            "a message 5\n"
          ]
        }
      ]
    },
    {
      "cell_type": "code",
      "source": [
        "for number in range(5):\n",
        "   print(\"a message\", number +1, (number+1)*'.')"
      ],
      "metadata": {
        "colab": {
          "base_uri": "https://localhost:8080/"
        },
        "id": "e3XHo8-9RuHO",
        "outputId": "c5d876d0-7110-4855-df5f-0fe6018ecf1a"
      },
      "execution_count": 6,
      "outputs": [
        {
          "output_type": "stream",
          "name": "stdout",
          "text": [
            "a message 1 .\n",
            "a message 2 ..\n",
            "a message 3 ...\n",
            "a message 4 ....\n",
            "a message 5 .....\n"
          ]
        }
      ]
    },
    {
      "cell_type": "code",
      "source": [
        "for number in range (1,4):\n",
        "   print(\"a message\", number, number*'.')"
      ],
      "metadata": {
        "colab": {
          "base_uri": "https://localhost:8080/"
        },
        "id": "7jGkdVaMR7_r",
        "outputId": "346fcd2b-a993-4b61-ce5e-29bfdc0ace43"
      },
      "execution_count": 7,
      "outputs": [
        {
          "output_type": "stream",
          "name": "stdout",
          "text": [
            "a message 1 .\n",
            "a message 2 ..\n",
            "a message 3 ...\n"
          ]
        }
      ]
    },
    {
      "cell_type": "code",
      "source": [
        "for number in range (2, 20, 2):\n",
        "   print(\"a message\", number, number*'.')"
      ],
      "metadata": {
        "colab": {
          "base_uri": "https://localhost:8080/"
        },
        "id": "8M673-DfR8Cs",
        "outputId": "f989b6c2-35cc-480f-e6f7-a4d7385a84b5"
      },
      "execution_count": 10,
      "outputs": [
        {
          "output_type": "stream",
          "name": "stdout",
          "text": [
            "a message 2 ..\n",
            "a message 4 ....\n",
            "a message 6 ......\n",
            "a message 8 ........\n",
            "a message 10 ..........\n",
            "a message 12 ............\n",
            "a message 14 ..............\n",
            "a message 16 ................\n",
            "a message 18 ..................\n"
          ]
        }
      ]
    },
    {
      "cell_type": "code",
      "source": [
        "#On list\n",
        "for x in [1,2,3,4]:\n",
        "  print(x)"
      ],
      "metadata": {
        "colab": {
          "base_uri": "https://localhost:8080/"
        },
        "id": "ICCRP14BYlv1",
        "outputId": "0626a9a1-eede-46c3-fa7f-d2e5959d99a5"
      },
      "execution_count": 19,
      "outputs": [
        {
          "output_type": "stream",
          "name": "stdout",
          "text": [
            "1\n",
            "2\n",
            "3\n",
            "4\n"
          ]
        }
      ]
    },
    {
      "cell_type": "code",
      "source": [
        "names= ['Sansa', 'Arya', 'Jon']\n",
        "for name in names:\n",
        "  print(name)"
      ],
      "metadata": {
        "colab": {
          "base_uri": "https://localhost:8080/"
        },
        "id": "S98ZJt8gj0ol",
        "outputId": "34c4f445-90de-4d33-e68b-fdc6888fcda7"
      },
      "execution_count": 49,
      "outputs": [
        {
          "output_type": "stream",
          "name": "stdout",
          "text": [
            "Sansa\n",
            "Arya\n",
            "Jon\n"
          ]
        }
      ]
    },
    {
      "cell_type": "code",
      "source": [
        "numbers= [2,3,5,-2,-10]\n",
        "for i in numbers:\n",
        "   print(i**2)"
      ],
      "metadata": {
        "colab": {
          "base_uri": "https://localhost:8080/"
        },
        "id": "Q7fShpmDkLtH",
        "outputId": "341f0073-47df-4ebe-d30c-217298e717b5"
      },
      "execution_count": 50,
      "outputs": [
        {
          "output_type": "stream",
          "name": "stdout",
          "text": [
            "4\n",
            "9\n",
            "25\n",
            "4\n",
            "100\n"
          ]
        }
      ]
    },
    {
      "cell_type": "code",
      "source": [
        "#On tuple\n",
        "for x in (1,2,3,4):\n",
        "  print(x)"
      ],
      "metadata": {
        "colab": {
          "base_uri": "https://localhost:8080/"
        },
        "id": "rN29Fz3HYrlH",
        "outputId": "cc60d6b6-1ba3-4440-8f7a-a9610bf576ff"
      },
      "execution_count": 20,
      "outputs": [
        {
          "output_type": "stream",
          "name": "stdout",
          "text": [
            "1\n",
            "2\n",
            "3\n",
            "4\n"
          ]
        }
      ]
    },
    {
      "cell_type": "code",
      "source": [
        "#On Set\n",
        "for x in {1,2,3,4}:\n",
        "  print(x)"
      ],
      "metadata": {
        "colab": {
          "base_uri": "https://localhost:8080/"
        },
        "id": "_mSub_ivYvli",
        "outputId": "d3bee655-7c70-4ccf-e0af-ad918281acd9"
      },
      "execution_count": 22,
      "outputs": [
        {
          "output_type": "stream",
          "name": "stdout",
          "text": [
            "1\n",
            "2\n",
            "3\n",
            "4\n"
          ]
        }
      ]
    },
    {
      "cell_type": "code",
      "source": [
        "#1+2+3\n",
        "sum=0\n",
        "for i in range (1,4):\n",
        "      sum=sum+i\n",
        "print (sum)\n"
      ],
      "metadata": {
        "colab": {
          "base_uri": "https://localhost:8080/"
        },
        "id": "-3CvVL_Cgp23",
        "outputId": "4e5e21b6-f7ec-4a20-fcf5-15a7d2afa969"
      },
      "execution_count": 45,
      "outputs": [
        {
          "output_type": "stream",
          "name": "stdout",
          "text": [
            "6\n"
          ]
        }
      ]
    },
    {
      "cell_type": "code",
      "source": [
        "#break\n",
        "#continue\n",
        "#pass\n"
      ],
      "metadata": {
        "id": "OXPyl6ExdA1V"
      },
      "execution_count": null,
      "outputs": []
    },
    {
      "cell_type": "code",
      "source": [
        "#break\n",
        "for x in range(1, 21):\n",
        "  print(x)\n",
        "  if(x==13):\n",
        "   break\n"
      ],
      "metadata": {
        "colab": {
          "base_uri": "https://localhost:8080/"
        },
        "id": "t-EKBjrboJIM",
        "outputId": "8e5cb8b4-8f52-4a5f-b86e-bdf7ba6f9637"
      },
      "execution_count": 70,
      "outputs": [
        {
          "output_type": "stream",
          "name": "stdout",
          "text": [
            "1\n",
            "2\n",
            "3\n",
            "4\n",
            "5\n",
            "6\n",
            "7\n",
            "8\n",
            "9\n",
            "10\n",
            "11\n",
            "12\n",
            "13\n"
          ]
        }
      ]
    },
    {
      "cell_type": "code",
      "source": [
        "numbers = [1, 2, 3, 4, 5, 6, 8, 10]\n",
        "\n",
        "for num in numbers:\n",
        "    if num == 6:\n",
        "        print(\"Number 6 found!\")\n",
        "        break\n"
      ],
      "metadata": {
        "colab": {
          "base_uri": "https://localhost:8080/"
        },
        "id": "Oq3m9xJ7lI8Y",
        "outputId": "e0e3ce02-dd86-4799-8c40-e553d7ec84f4"
      },
      "execution_count": 65,
      "outputs": [
        {
          "output_type": "stream",
          "name": "stdout",
          "text": [
            "Number 6 found!\n"
          ]
        }
      ]
    },
    {
      "cell_type": "code",
      "source": [
        "#for-else with break statement\n",
        "\n",
        "numbers = [1, 2, 3, 4, 5, 6]\n",
        "for num in numbers:\n",
        "    if num == 6:\n",
        "        print(\"Number 6 found!\")\n",
        "        break\n",
        "else:\n",
        "    print(\"Number 6 not found in the list.\")"
      ],
      "metadata": {
        "colab": {
          "base_uri": "https://localhost:8080/"
        },
        "id": "iAJMzMfDlYQl",
        "outputId": "202a43e9-43f0-463e-e942-0bdb7b737837"
      },
      "execution_count": 59,
      "outputs": [
        {
          "output_type": "stream",
          "name": "stdout",
          "text": [
            "Number 6 found!\n"
          ]
        }
      ]
    },
    {
      "cell_type": "code",
      "source": [
        "numbers = [1, 2, 3, 4, 5]\n",
        "\n",
        "for num in numbers:\n",
        "    if num % 2 == 0:\n",
        "        continue\n",
        "    print(f\"Odd number: {num}\")\n"
      ],
      "metadata": {
        "colab": {
          "base_uri": "https://localhost:8080/"
        },
        "id": "ezx4vTTrnQmp",
        "outputId": "f738aef9-1c2b-45a0-fc30-b55559acc6b1"
      },
      "execution_count": 64,
      "outputs": [
        {
          "output_type": "stream",
          "name": "stdout",
          "text": [
            "Odd number: 1\n",
            "Odd number: 3\n",
            "Odd number: 5\n"
          ]
        }
      ]
    },
    {
      "cell_type": "code",
      "source": [
        "numbers = [1, 2, 3, 4, 5]\n",
        "\n",
        "for num in numbers:\n",
        "    if num % 2 == 0:\n",
        "        pass\n",
        "    else:\n",
        "        print(f\"Odd number: {num}\")\n"
      ],
      "metadata": {
        "colab": {
          "base_uri": "https://localhost:8080/"
        },
        "id": "9Lya8GmwotNG",
        "outputId": "59bbe61e-270a-4b51-c48b-25513fb6c088"
      },
      "execution_count": 71,
      "outputs": [
        {
          "output_type": "stream",
          "name": "stdout",
          "text": [
            "Odd number: 1\n",
            "Odd number: 3\n",
            "Odd number: 5\n"
          ]
        }
      ]
    },
    {
      "cell_type": "code",
      "source": [
        "#Count total even numbers\n",
        "count=0\n",
        "for i in range (1, 10):\n",
        "    if i%2==0:\n",
        "       print(i)\n",
        "       count=count+1\n",
        "\n",
        "print(\"Total even numbers=\", count)\n",
        "\n"
      ],
      "metadata": {
        "colab": {
          "base_uri": "https://localhost:8080/"
        },
        "id": "d4951aHLYvo-",
        "outputId": "44f0cacb-9aad-461f-da24-59553f02cab9"
      },
      "execution_count": 56,
      "outputs": [
        {
          "output_type": "stream",
          "name": "stdout",
          "text": [
            "2\n",
            "4\n",
            "6\n",
            "8\n",
            "Total even numbers= 4\n"
          ]
        }
      ]
    },
    {
      "cell_type": "code",
      "source": [
        "#Nested Loop\n",
        "for x in range(5):\n",
        "  for y in range (3):\n",
        "     print(x,y)"
      ],
      "metadata": {
        "colab": {
          "base_uri": "https://localhost:8080/"
        },
        "id": "pEUFMglKR8GE",
        "outputId": "826b9106-f5fd-41c5-8617-c8b7aa6e27cc"
      },
      "execution_count": 12,
      "outputs": [
        {
          "output_type": "stream",
          "name": "stdout",
          "text": [
            "0 0\n",
            "0 1\n",
            "0 2\n",
            "1 0\n",
            "1 1\n",
            "1 2\n",
            "2 0\n",
            "2 1\n",
            "2 2\n",
            "3 0\n",
            "3 1\n",
            "3 2\n",
            "4 0\n",
            "4 1\n",
            "4 2\n"
          ]
        }
      ]
    },
    {
      "cell_type": "code",
      "source": [
        "for i in range(1, 4):  # Outer loop\n",
        "    for j in range(1, i + 1):  # Inner loop\n",
        "        print(j, end=\" \")\n",
        "    print()\n"
      ],
      "metadata": {
        "id": "A-MhAcdHpDM3"
      },
      "execution_count": null,
      "outputs": []
    },
    {
      "cell_type": "code",
      "source": [
        "for i in range(1, 3):  # Outer loop for rows\n",
        "    for j in range(1, 10):  # Inner loop for columns\n",
        "        print(i,'*',j, '=', i*j)\n",
        "    print()\n"
      ],
      "metadata": {
        "colab": {
          "base_uri": "https://localhost:8080/"
        },
        "id": "QMK2wBSMpEgX",
        "outputId": "df195388-fa92-44a3-da41-2a303ca79ab1"
      },
      "execution_count": 79,
      "outputs": [
        {
          "output_type": "stream",
          "name": "stdout",
          "text": [
            "1 * 1 = 1\n",
            "1 * 2 = 2\n",
            "1 * 3 = 3\n",
            "1 * 4 = 4\n",
            "1 * 5 = 5\n",
            "1 * 6 = 6\n",
            "1 * 7 = 7\n",
            "1 * 8 = 8\n",
            "1 * 9 = 9\n",
            "\n",
            "2 * 1 = 2\n",
            "2 * 2 = 4\n",
            "2 * 3 = 6\n",
            "2 * 4 = 8\n",
            "2 * 5 = 10\n",
            "2 * 6 = 12\n",
            "2 * 7 = 14\n",
            "2 * 8 = 16\n",
            "2 * 9 = 18\n",
            "\n"
          ]
        }
      ]
    }
  ]
}