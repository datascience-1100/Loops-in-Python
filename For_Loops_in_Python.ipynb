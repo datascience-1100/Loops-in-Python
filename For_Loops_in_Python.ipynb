{
  "nbformat": 4,
  "nbformat_minor": 0,
  "metadata": {
    "colab": {
      "provenance": [],
      "authorship_tag": "ABX9TyP5qHCil2D3AtdM5Sdy0Rvk",
      "include_colab_link": true
    },
    "kernelspec": {
      "name": "python3",
      "display_name": "Python 3"
    },
    "language_info": {
      "name": "python"
    }
  },
  "cells": [
    {
      "cell_type": "markdown",
      "metadata": {
        "id": "view-in-github",
        "colab_type": "text"
      },
      "source": [
        "<a href=\"https://colab.research.google.com/github/datascience-1100/Loops-in-Python/blob/main/For_Loops_in_Python.ipynb\" target=\"_parent\"><img src=\"https://colab.research.google.com/assets/colab-badge.svg\" alt=\"Open In Colab\"/></a>"
      ]
    },
    {
      "cell_type": "code",
      "execution_count": null,
      "metadata": {
        "id": "dIIjAXnMQI1Q"
      },
      "outputs": [],
      "source": [
        "#Loop Definition"
      ]
    },
    {
      "cell_type": "code",
      "source": [
        "#For loop\n",
        "print(\"a message\")\n",
        "print(\"a message\")\n",
        "print(\"a message\")\n",
        "print(\"a message\")\n",
        "print(\"a message\")\n",
        "print(\"a message\")\n",
        "print(\"a message\")\n",
        "print(\"a message\")\n",
        "print(\"a message\")\n",
        "print(\"a message\")"
      ],
      "metadata": {
        "colab": {
          "base_uri": "https://localhost:8080/"
        },
        "id": "TazZ4LhnQP3W",
        "outputId": "2e6dc5f9-eb64-4c9a-b5d1-04a2cc5415d8"
      },
      "execution_count": null,
      "outputs": [
        {
          "output_type": "stream",
          "name": "stdout",
          "text": [
            "a message\n",
            "a message\n",
            "a message\n",
            "a message\n",
            "a message\n",
            "a message\n",
            "a message\n",
            "a message\n",
            "a message\n",
            "a message\n"
          ]
        }
      ]
    },
    {
      "cell_type": "code",
      "source": [
        "#for loop\n",
        "#while loop\n",
        "#range - built in\n",
        "a=2\n",
        "print(type(a))\n",
        "print(type(range(9)))"
      ],
      "metadata": {
        "id": "wB6GsY1ddvqk",
        "colab": {
          "base_uri": "https://localhost:8080/"
        },
        "outputId": "942c719a-c37d-4507-86aa-3fdfa2c97825"
      },
      "execution_count": null,
      "outputs": [
        {
          "output_type": "stream",
          "name": "stdout",
          "text": [
            "<class 'int'>\n",
            "<class 'range'>\n"
          ]
        }
      ]
    },
    {
      "cell_type": "code",
      "source": [
        "for number in range(5):\n",
        "   print(number)\n",
        "   print(\"Welcome\")\n",
        "#number=0\n",
        "#number=1\n",
        "#number=2\n",
        "#number=3\n",
        "#number=4"
      ],
      "metadata": {
        "colab": {
          "base_uri": "https://localhost:8080/"
        },
        "id": "U3qy7nKyQQCe",
        "outputId": "0785ca0d-1e91-4402-9607-164493389fcf"
      },
      "execution_count": null,
      "outputs": [
        {
          "output_type": "stream",
          "name": "stdout",
          "text": [
            "0\n",
            "Welcome\n",
            "1\n",
            "Welcome\n",
            "2\n",
            "Welcome\n",
            "3\n",
            "Welcome\n",
            "4\n",
            "Welcome\n"
          ]
        }
      ]
    },
    {
      "cell_type": "code",
      "source": [
        "#start from 1 instead of zero\n",
        "for i in range(1, 10):\n",
        "      print(i)"
      ],
      "metadata": {
        "colab": {
          "base_uri": "https://localhost:8080/"
        },
        "id": "JTQ3gbQAevTA",
        "outputId": "be614059-ae90-4189-eafb-82adc06ad211"
      },
      "execution_count": null,
      "outputs": [
        {
          "output_type": "stream",
          "name": "stdout",
          "text": [
            "1\n",
            "2\n",
            "3\n",
            "4\n",
            "5\n",
            "6\n",
            "7\n",
            "8\n",
            "9\n"
          ]
        }
      ]
    },
    {
      "cell_type": "code",
      "source": [
        "#Include a step\n",
        "for i in range(1, 10, 3):\n",
        "      print(i)"
      ],
      "metadata": {
        "colab": {
          "base_uri": "https://localhost:8080/"
        },
        "id": "I0pLCA5jgQEZ",
        "outputId": "73be564f-ab8c-46b4-f3bd-8a49ef66031f"
      },
      "execution_count": null,
      "outputs": [
        {
          "output_type": "stream",
          "name": "stdout",
          "text": [
            "1\n",
            "4\n",
            "7\n"
          ]
        }
      ]
    },
    {
      "cell_type": "code",
      "source": [
        "#Print number tables\n",
        "for a in range (1,11):\n",
        "  print('2*', a, '=', 2*a)\n"
      ],
      "metadata": {
        "colab": {
          "base_uri": "https://localhost:8080/"
        },
        "id": "StTxYvt0i622",
        "outputId": "f60e482e-2074-4ee1-bb93-cba29ae14fdf"
      },
      "execution_count": null,
      "outputs": [
        {
          "output_type": "stream",
          "name": "stdout",
          "text": [
            "2* 1 = 2\n",
            "2* 2 = 4\n",
            "2* 3 = 6\n",
            "2* 4 = 8\n",
            "2* 5 = 10\n",
            "2* 6 = 12\n",
            "2* 7 = 14\n",
            "2* 8 = 16\n",
            "2* 9 = 18\n",
            "2* 10 = 20\n"
          ]
        }
      ]
    },
    {
      "cell_type": "code",
      "source": [
        "for n in range(10,0,-1):\n",
        "   print(n)"
      ],
      "metadata": {
        "colab": {
          "base_uri": "https://localhost:8080/"
        },
        "id": "gFhsGCgujUlu",
        "outputId": "97543053-d642-4bd8-ba69-12d4830c05d8"
      },
      "execution_count": null,
      "outputs": [
        {
          "output_type": "stream",
          "name": "stdout",
          "text": [
            "10\n",
            "9\n",
            "8\n",
            "7\n",
            "6\n",
            "5\n",
            "4\n",
            "3\n",
            "2\n",
            "1\n"
          ]
        }
      ]
    },
    {
      "cell_type": "code",
      "source": [
        "for number in 'Python':\n",
        "   print(number)"
      ],
      "metadata": {
        "colab": {
          "base_uri": "https://localhost:8080/"
        },
        "id": "laM2W9RlW3ch",
        "outputId": "71046fc2-8669-4363-a63e-28ec1793cca8"
      },
      "execution_count": null,
      "outputs": [
        {
          "output_type": "stream",
          "name": "stdout",
          "text": [
            "P\n",
            "y\n",
            "t\n",
            "h\n",
            "o\n",
            "n\n"
          ]
        }
      ]
    },
    {
      "cell_type": "code",
      "source": [
        "#Indentation\n",
        "for number in 'Python':\n",
        "   print(number)\n",
        "print('Python')"
      ],
      "metadata": {
        "colab": {
          "base_uri": "https://localhost:8080/"
        },
        "id": "5Btzl5b-XF6V",
        "outputId": "9e10b9ee-2e46-4c70-8e38-b912d4422690"
      },
      "execution_count": null,
      "outputs": [
        {
          "output_type": "stream",
          "name": "stdout",
          "text": [
            "P\n",
            "y\n",
            "t\n",
            "h\n",
            "o\n",
            "n\n",
            "Python\n"
          ]
        }
      ]
    },
    {
      "cell_type": "code",
      "source": [
        "for number in range(5):\n",
        "   print(\"Number\", number +1)"
      ],
      "metadata": {
        "colab": {
          "base_uri": "https://localhost:8080/"
        },
        "id": "q4pL9jzrQQMm",
        "outputId": "4570d111-87fd-44b2-c29d-2bbe66104df1"
      },
      "execution_count": null,
      "outputs": [
        {
          "output_type": "stream",
          "name": "stdout",
          "text": [
            "Number 1\n",
            "Number 2\n",
            "Number 3\n",
            "Number 4\n",
            "Number 5\n"
          ]
        }
      ]
    },
    {
      "cell_type": "code",
      "source": [
        "for number in range(5):\n",
        "   print(\"a message\", number +1, (number+1)*'.')"
      ],
      "metadata": {
        "colab": {
          "base_uri": "https://localhost:8080/"
        },
        "id": "e3XHo8-9RuHO",
        "outputId": "753c4183-6a62-4e3c-d172-a9bf9b81db15"
      },
      "execution_count": null,
      "outputs": [
        {
          "output_type": "stream",
          "name": "stdout",
          "text": [
            "a message 1 .\n",
            "a message 2 ..\n",
            "a message 3 ...\n",
            "a message 4 ....\n",
            "a message 5 .....\n"
          ]
        }
      ]
    },
    {
      "cell_type": "code",
      "source": [
        "for number in range (1,4):\n",
        "   print(\"a message\", number, number*'.')"
      ],
      "metadata": {
        "colab": {
          "base_uri": "https://localhost:8080/"
        },
        "id": "7jGkdVaMR7_r",
        "outputId": "e0d5ad1b-e80b-43b7-fa21-e7bb3a1b4b3e"
      },
      "execution_count": null,
      "outputs": [
        {
          "output_type": "stream",
          "name": "stdout",
          "text": [
            "a message 1 .\n",
            "a message 2 ..\n",
            "a message 3 ...\n"
          ]
        }
      ]
    },
    {
      "cell_type": "code",
      "source": [
        "for number in range (2, 20, 2):\n",
        "   print(\"a message\", number, number*'.')"
      ],
      "metadata": {
        "colab": {
          "base_uri": "https://localhost:8080/"
        },
        "id": "8M673-DfR8Cs",
        "outputId": "a876f570-cb4d-45f5-cb9b-e4f72825d29e"
      },
      "execution_count": null,
      "outputs": [
        {
          "output_type": "stream",
          "name": "stdout",
          "text": [
            "a message 2 ..\n",
            "a message 4 ....\n",
            "a message 6 ......\n",
            "a message 8 ........\n",
            "a message 10 ..........\n",
            "a message 12 ............\n",
            "a message 14 ..............\n",
            "a message 16 ................\n",
            "a message 18 ..................\n"
          ]
        }
      ]
    },
    {
      "cell_type": "code",
      "source": [
        "#On list\n",
        "for x in [1,2,3,4]:\n",
        "  print(x)"
      ],
      "metadata": {
        "colab": {
          "base_uri": "https://localhost:8080/"
        },
        "id": "ICCRP14BYlv1",
        "outputId": "a336723d-f696-48a8-930a-6c22efa2a42a"
      },
      "execution_count": null,
      "outputs": [
        {
          "output_type": "stream",
          "name": "stdout",
          "text": [
            "1\n",
            "2\n",
            "3\n",
            "4\n"
          ]
        }
      ]
    },
    {
      "cell_type": "code",
      "source": [
        "#On String\n",
        "names= ['Sansa', 'Arya', 'Jon']\n",
        "for a in names:\n",
        "  print(a)"
      ],
      "metadata": {
        "colab": {
          "base_uri": "https://localhost:8080/"
        },
        "id": "S98ZJt8gj0ol",
        "outputId": "44ab98e8-3952-4147-e462-e1ef91d6a1be"
      },
      "execution_count": null,
      "outputs": [
        {
          "output_type": "stream",
          "name": "stdout",
          "text": [
            "Sansa\n",
            "Arya\n",
            "Jon\n"
          ]
        }
      ]
    },
    {
      "cell_type": "code",
      "source": [
        "#Square each values of the list\n",
        "numbers= [2,3,5,-2,-10]\n",
        "for i in numbers:\n",
        "   print(i**2)"
      ],
      "metadata": {
        "colab": {
          "base_uri": "https://localhost:8080/"
        },
        "id": "Q7fShpmDkLtH",
        "outputId": "193f5abc-5a10-4eca-f577-7b4900a854e3"
      },
      "execution_count": null,
      "outputs": [
        {
          "output_type": "stream",
          "name": "stdout",
          "text": [
            "4\n",
            "9\n",
            "25\n",
            "4\n",
            "100\n"
          ]
        }
      ]
    },
    {
      "cell_type": "code",
      "source": [
        "#On tuple\n",
        "for x in (1,2,3,4):\n",
        "  print(x)"
      ],
      "metadata": {
        "colab": {
          "base_uri": "https://localhost:8080/"
        },
        "id": "rN29Fz3HYrlH",
        "outputId": "8e71b487-a650-4ad0-8c29-c0af4bef3829"
      },
      "execution_count": null,
      "outputs": [
        {
          "output_type": "stream",
          "name": "stdout",
          "text": [
            "1\n",
            "2\n",
            "3\n",
            "4\n"
          ]
        }
      ]
    },
    {
      "cell_type": "code",
      "source": [
        "#On Set\n",
        "for x in {1,2,3,4}:\n",
        "  print(x)"
      ],
      "metadata": {
        "colab": {
          "base_uri": "https://localhost:8080/"
        },
        "id": "_mSub_ivYvli",
        "outputId": "7f4fdc10-b46c-4afa-a53d-bad3e6f11159"
      },
      "execution_count": null,
      "outputs": [
        {
          "output_type": "stream",
          "name": "stdout",
          "text": [
            "1\n",
            "2\n",
            "3\n",
            "4\n"
          ]
        }
      ]
    },
    {
      "cell_type": "code",
      "source": [
        "#1+2+3+4+5\n",
        "sum=0\n",
        "for i in range (1,6):\n",
        "      sum=sum+i\n",
        "print (sum)\n"
      ],
      "metadata": {
        "colab": {
          "base_uri": "https://localhost:8080/"
        },
        "id": "-3CvVL_Cgp23",
        "outputId": "d8298b7f-41b2-461e-ab2e-a86d8f5e8060"
      },
      "execution_count": null,
      "outputs": [
        {
          "output_type": "stream",
          "name": "stdout",
          "text": [
            "15\n"
          ]
        }
      ]
    },
    {
      "cell_type": "code",
      "source": [
        "#break\n",
        "#continue\n",
        "#pass\n"
      ],
      "metadata": {
        "id": "OXPyl6ExdA1V"
      },
      "execution_count": null,
      "outputs": []
    },
    {
      "cell_type": "code",
      "source": [
        "#break\n",
        "for x in range(1, 21):\n",
        "  print(x)\n",
        "  if(x==13):\n",
        "   break\n"
      ],
      "metadata": {
        "colab": {
          "base_uri": "https://localhost:8080/"
        },
        "id": "t-EKBjrboJIM",
        "outputId": "e25207dc-e4f6-4bcc-8302-8fc3c8c99d17"
      },
      "execution_count": null,
      "outputs": [
        {
          "output_type": "stream",
          "name": "stdout",
          "text": [
            "1\n",
            "2\n",
            "3\n",
            "4\n",
            "5\n",
            "6\n",
            "7\n",
            "8\n",
            "9\n",
            "10\n",
            "11\n",
            "12\n",
            "13\n"
          ]
        }
      ]
    },
    {
      "cell_type": "code",
      "source": [
        "numbers = [1, 2, 3, 4, 5, 6, 8, 10]\n",
        "\n",
        "for num in numbers:\n",
        "    if num == 6:\n",
        "        print(\"Number 6 found!\")\n",
        "        break\n"
      ],
      "metadata": {
        "id": "Oq3m9xJ7lI8Y"
      },
      "execution_count": null,
      "outputs": []
    },
    {
      "cell_type": "code",
      "source": [
        "#for-else with break statement\n",
        "\n",
        "numbers = [1, 2, 3, 4, 5, 6]\n",
        "for num in numbers:\n",
        "    if num == 6:\n",
        "        print(\"Number 6 found!\")\n",
        "        break\n",
        "else:\n",
        "    print(\"Number 6 not found in the list.\")"
      ],
      "metadata": {
        "id": "iAJMzMfDlYQl"
      },
      "execution_count": null,
      "outputs": []
    },
    {
      "cell_type": "code",
      "source": [
        "numbers = [1, 2, 3, 4, 5, 6]\n",
        "for num in numbers:\n",
        "    if num == 9:\n",
        "        print(\"Number 9 found!\")\n",
        "        break\n",
        "else:\n",
        "    print(\"Number 9 not found in the list.\")"
      ],
      "metadata": {
        "id": "WKEvApY8j9ER"
      },
      "execution_count": null,
      "outputs": []
    },
    {
      "cell_type": "code",
      "source": [
        "#Continue Statement\n",
        "numbers = [1, 2, 3, 4, 5]\n",
        "\n",
        "for num in numbers:\n",
        "    if num % 2 == 0:\n",
        "        continue\n",
        "    print(f\"Odd number: {num}\")\n"
      ],
      "metadata": {
        "colab": {
          "base_uri": "https://localhost:8080/"
        },
        "id": "ezx4vTTrnQmp",
        "outputId": "77993a5a-a14a-4d3b-83a9-5f9d85e4cae2"
      },
      "execution_count": null,
      "outputs": [
        {
          "output_type": "stream",
          "name": "stdout",
          "text": [
            "Odd number: 1\n",
            "Odd number: 3\n",
            "Odd number: 5\n"
          ]
        }
      ]
    },
    {
      "cell_type": "code",
      "source": [
        "numbers = [1, 2, 3, 4, 5]\n",
        "\n",
        "for num in numbers:\n",
        "    if num % 2 == 0:\n",
        "        pass\n",
        "    else:\n",
        "        print(f\"Odd number: {num}\")\n"
      ],
      "metadata": {
        "id": "9Lya8GmwotNG"
      },
      "execution_count": null,
      "outputs": []
    },
    {
      "cell_type": "code",
      "source": [
        "#break statement exits a loop\n",
        "#continue skips the rest of the code\n",
        "#pass means null operation i.e. no action required"
      ],
      "metadata": {
        "id": "i_p1azCenhsB"
      },
      "execution_count": null,
      "outputs": []
    },
    {
      "cell_type": "code",
      "source": [
        "#Count total even numbers\n",
        "count=0\n",
        "for i in range (1, 10):\n",
        "    if i%2==0:\n",
        "       print(i)\n",
        "       count=count+1\n",
        "\n",
        "print(\"Total even numbers=\", count)\n",
        "\n"
      ],
      "metadata": {
        "colab": {
          "base_uri": "https://localhost:8080/"
        },
        "id": "d4951aHLYvo-",
        "outputId": "0e4391c6-f4f8-4247-987e-efb961f100e8"
      },
      "execution_count": null,
      "outputs": [
        {
          "output_type": "stream",
          "name": "stdout",
          "text": [
            "2\n",
            "4\n",
            "6\n",
            "8\n",
            "Total even numbers= 4\n"
          ]
        }
      ]
    },
    {
      "cell_type": "code",
      "source": [
        "#Nested Loop\n",
        "for x in range(5):\n",
        "  for y in range (3):\n",
        "     print(x,y)"
      ],
      "metadata": {
        "colab": {
          "base_uri": "https://localhost:8080/"
        },
        "id": "pEUFMglKR8GE",
        "outputId": "ddf5d3f8-3b17-4e9a-8e6e-7e4f7a0a04fb"
      },
      "execution_count": null,
      "outputs": [
        {
          "output_type": "stream",
          "name": "stdout",
          "text": [
            "0 0\n",
            "0 1\n",
            "0 2\n",
            "1 0\n",
            "1 1\n",
            "1 2\n",
            "2 0\n",
            "2 1\n",
            "2 2\n",
            "3 0\n",
            "3 1\n",
            "3 2\n",
            "4 0\n",
            "4 1\n",
            "4 2\n"
          ]
        }
      ]
    },
    {
      "cell_type": "code",
      "source": [
        "for i in range(1, 6):  # Outer loop\n",
        "    for j in range(1, i + 1):  # Inner loop\n",
        "        print(j, end=\" \")\n",
        "    print()\n"
      ],
      "metadata": {
        "id": "A-MhAcdHpDM3",
        "colab": {
          "base_uri": "https://localhost:8080/"
        },
        "outputId": "57495489-1927-42f2-eb94-7348e346fb51"
      },
      "execution_count": null,
      "outputs": [
        {
          "output_type": "stream",
          "name": "stdout",
          "text": [
            "1 \n",
            "1 2 \n",
            "1 2 3 \n",
            "1 2 3 4 \n",
            "1 2 3 4 5 \n"
          ]
        }
      ]
    },
    {
      "cell_type": "code",
      "source": [
        "for i in range(1, 10):  # Outer loop for rows\n",
        "    for j in range(1, 10):  # Inner loop for columns\n",
        "        print(i,'*',j, '=', i*j)\n",
        "    print()\n"
      ],
      "metadata": {
        "colab": {
          "base_uri": "https://localhost:8080/"
        },
        "id": "QMK2wBSMpEgX",
        "outputId": "4631babf-ddac-4069-849f-634bef9af619"
      },
      "execution_count": null,
      "outputs": [
        {
          "output_type": "stream",
          "name": "stdout",
          "text": [
            "1 * 1 = 1\n",
            "1 * 2 = 2\n",
            "1 * 3 = 3\n",
            "1 * 4 = 4\n",
            "1 * 5 = 5\n",
            "1 * 6 = 6\n",
            "1 * 7 = 7\n",
            "1 * 8 = 8\n",
            "1 * 9 = 9\n",
            "\n",
            "2 * 1 = 2\n",
            "2 * 2 = 4\n",
            "2 * 3 = 6\n",
            "2 * 4 = 8\n",
            "2 * 5 = 10\n",
            "2 * 6 = 12\n",
            "2 * 7 = 14\n",
            "2 * 8 = 16\n",
            "2 * 9 = 18\n",
            "\n",
            "3 * 1 = 3\n",
            "3 * 2 = 6\n",
            "3 * 3 = 9\n",
            "3 * 4 = 12\n",
            "3 * 5 = 15\n",
            "3 * 6 = 18\n",
            "3 * 7 = 21\n",
            "3 * 8 = 24\n",
            "3 * 9 = 27\n",
            "\n",
            "4 * 1 = 4\n",
            "4 * 2 = 8\n",
            "4 * 3 = 12\n",
            "4 * 4 = 16\n",
            "4 * 5 = 20\n",
            "4 * 6 = 24\n",
            "4 * 7 = 28\n",
            "4 * 8 = 32\n",
            "4 * 9 = 36\n",
            "\n",
            "5 * 1 = 5\n",
            "5 * 2 = 10\n",
            "5 * 3 = 15\n",
            "5 * 4 = 20\n",
            "5 * 5 = 25\n",
            "5 * 6 = 30\n",
            "5 * 7 = 35\n",
            "5 * 8 = 40\n",
            "5 * 9 = 45\n",
            "\n",
            "6 * 1 = 6\n",
            "6 * 2 = 12\n",
            "6 * 3 = 18\n",
            "6 * 4 = 24\n",
            "6 * 5 = 30\n",
            "6 * 6 = 36\n",
            "6 * 7 = 42\n",
            "6 * 8 = 48\n",
            "6 * 9 = 54\n",
            "\n",
            "7 * 1 = 7\n",
            "7 * 2 = 14\n",
            "7 * 3 = 21\n",
            "7 * 4 = 28\n",
            "7 * 5 = 35\n",
            "7 * 6 = 42\n",
            "7 * 7 = 49\n",
            "7 * 8 = 56\n",
            "7 * 9 = 63\n",
            "\n",
            "8 * 1 = 8\n",
            "8 * 2 = 16\n",
            "8 * 3 = 24\n",
            "8 * 4 = 32\n",
            "8 * 5 = 40\n",
            "8 * 6 = 48\n",
            "8 * 7 = 56\n",
            "8 * 8 = 64\n",
            "8 * 9 = 72\n",
            "\n",
            "9 * 1 = 9\n",
            "9 * 2 = 18\n",
            "9 * 3 = 27\n",
            "9 * 4 = 36\n",
            "9 * 5 = 45\n",
            "9 * 6 = 54\n",
            "9 * 7 = 63\n",
            "9 * 8 = 72\n",
            "9 * 9 = 81\n",
            "\n"
          ]
        }
      ]
    }
  ]
}